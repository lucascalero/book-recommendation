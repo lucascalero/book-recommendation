{
 "cells": [
  {
   "cell_type": "code",
   "execution_count": 14,
   "metadata": {},
   "outputs": [],
   "source": [
    "!pip install implicit\n",
    "# Make sure that you have all requirements installed before starting, \n",
    "# highly recommend to go to the implicit repo to see all machine requirements. \n",
    "import pandas as pd\n",
    "import json\n",
    "import requests\n",
    "import implicit\n",
    "from scipy import sparse\n",
    "pd.options.mode.chained_assignment = None\n"
   ]
  },
  {
   "cell_type": "markdown",
   "metadata": {},
   "source": [
    "## Our dataset:\n",
    "To get this dataset please go to: \n",
    "https://www.kaggle.com/zygmunt/goodbooks-10k#books.csv\n",
    "\n",
    "\n",
    "\n",
    "book -- Una tabla de libros con toda su informacion"
   ]
  },
  {
   "cell_type": "code",
   "execution_count": 16,
   "metadata": {},
   "outputs": [
    {
     "name": "stdout",
     "output_type": "stream",
     "text": [
      "<class 'pandas.core.frame.DataFrame'>\n",
      "RangeIndex: 10000 entries, 0 to 9999\n",
      "Data columns (total 23 columns):\n",
      "id                           10000 non-null int64\n",
      "book_id                      10000 non-null int64\n",
      "best_book_id                 10000 non-null int64\n",
      "work_id                      10000 non-null int64\n",
      "books_count                  10000 non-null int64\n",
      "isbn                         9300 non-null object\n",
      "isbn13                       9415 non-null float64\n",
      "authors                      10000 non-null object\n",
      "original_publication_year    9979 non-null float64\n",
      "original_title               9415 non-null object\n",
      "title                        10000 non-null object\n",
      "language_code                8916 non-null object\n",
      "average_rating               10000 non-null float64\n",
      "ratings_count                10000 non-null int64\n",
      "work_ratings_count           10000 non-null int64\n",
      "work_text_reviews_count      10000 non-null int64\n",
      "ratings_1                    10000 non-null int64\n",
      "ratings_2                    10000 non-null int64\n",
      "ratings_3                    10000 non-null int64\n",
      "ratings_4                    10000 non-null int64\n",
      "ratings_5                    10000 non-null int64\n",
      "image_url                    10000 non-null object\n",
      "small_image_url              10000 non-null object\n",
      "dtypes: float64(3), int64(13), object(7)\n",
      "memory usage: 1.8+ MB\n"
     ]
    }
   ],
   "source": [
    "book = pd.read_csv('books.csv')\n",
    "book.info()"
   ]
  },
  {
   "cell_type": "raw",
   "metadata": {},
   "source": [
    "ratings -- Una tabla de usuarios y un rating de 1-5 de libros"
   ]
  },
  {
   "cell_type": "code",
   "execution_count": 20,
   "metadata": {},
   "outputs": [
    {
     "name": "stdout",
     "output_type": "stream",
     "text": [
      "<class 'pandas.core.frame.DataFrame'>\n",
      "Int64Index: 650327 entries, 0 to 981754\n",
      "Data columns (total 3 columns):\n",
      "book_id    650327 non-null int64\n",
      "user_id    650327 non-null int64\n",
      "rating     650327 non-null int64\n",
      "dtypes: int64(3)\n",
      "memory usage: 19.8 MB\n"
     ]
    }
   ],
   "source": [
    "ratings = pd.read_csv('ratings.csv')\n",
    "ratings = ratings[ratings['rating'] >= 4].dropna()\n",
    "ratings.info()\n"
   ]
  },
  {
   "cell_type": "markdown",
   "metadata": {},
   "source": [
    "to_read -- Una tabla con usuarios y cada libro que esta en su lista de leer."
   ]
  },
  {
   "cell_type": "code",
   "execution_count": 40,
   "metadata": {},
   "outputs": [
    {
     "data": {
      "text/html": [
       "<div>\n",
       "<style scoped>\n",
       "    .dataframe tbody tr th:only-of-type {\n",
       "        vertical-align: middle;\n",
       "    }\n",
       "\n",
       "    .dataframe tbody tr th {\n",
       "        vertical-align: top;\n",
       "    }\n",
       "\n",
       "    .dataframe thead th {\n",
       "        text-align: right;\n",
       "    }\n",
       "</style>\n",
       "<table border=\"1\" class=\"dataframe\">\n",
       "  <thead>\n",
       "    <tr style=\"text-align: right;\">\n",
       "      <th></th>\n",
       "      <th>user_id</th>\n",
       "      <th>book_id</th>\n",
       "    </tr>\n",
       "  </thead>\n",
       "  <tbody>\n",
       "    <tr>\n",
       "      <th>0</th>\n",
       "      <td>1</td>\n",
       "      <td>112</td>\n",
       "    </tr>\n",
       "    <tr>\n",
       "      <th>1</th>\n",
       "      <td>1</td>\n",
       "      <td>235</td>\n",
       "    </tr>\n",
       "    <tr>\n",
       "      <th>2</th>\n",
       "      <td>1</td>\n",
       "      <td>533</td>\n",
       "    </tr>\n",
       "    <tr>\n",
       "      <th>3</th>\n",
       "      <td>1</td>\n",
       "      <td>1198</td>\n",
       "    </tr>\n",
       "    <tr>\n",
       "      <th>4</th>\n",
       "      <td>1</td>\n",
       "      <td>1874</td>\n",
       "    </tr>\n",
       "  </tbody>\n",
       "</table>\n",
       "</div>"
      ],
      "text/plain": [
       "   user_id  book_id\n",
       "0        1      112\n",
       "1        1      235\n",
       "2        1      533\n",
       "3        1     1198\n",
       "4        1     1874"
      ]
     },
     "execution_count": 40,
     "metadata": {},
     "output_type": "execute_result"
    }
   ],
   "source": [
    "to_read = pd.read_csv('to_read.csv')\n",
    "to_read.head()"
   ]
  },
  {
   "cell_type": "code",
   "execution_count": 21,
   "metadata": {},
   "outputs": [
    {
     "data": {
      "text/html": [
       "<div>\n",
       "<style scoped>\n",
       "    .dataframe tbody tr th:only-of-type {\n",
       "        vertical-align: middle;\n",
       "    }\n",
       "\n",
       "    .dataframe tbody tr th {\n",
       "        vertical-align: top;\n",
       "    }\n",
       "\n",
       "    .dataframe thead th {\n",
       "        text-align: right;\n",
       "    }\n",
       "</style>\n",
       "<table border=\"1\" class=\"dataframe\">\n",
       "  <thead>\n",
       "    <tr style=\"text-align: right;\">\n",
       "      <th></th>\n",
       "      <th>book_id</th>\n",
       "      <th>user_id</th>\n",
       "      <th>score</th>\n",
       "    </tr>\n",
       "  </thead>\n",
       "  <tbody>\n",
       "    <tr>\n",
       "      <th>0</th>\n",
       "      <td>3</td>\n",
       "      <td>3662</td>\n",
       "      <td>1</td>\n",
       "    </tr>\n",
       "    <tr>\n",
       "      <th>1</th>\n",
       "      <td>3</td>\n",
       "      <td>5115</td>\n",
       "      <td>1</td>\n",
       "    </tr>\n",
       "    <tr>\n",
       "      <th>2</th>\n",
       "      <td>3</td>\n",
       "      <td>5272</td>\n",
       "      <td>2</td>\n",
       "    </tr>\n",
       "    <tr>\n",
       "      <th>3</th>\n",
       "      <td>3</td>\n",
       "      <td>5885</td>\n",
       "      <td>1</td>\n",
       "    </tr>\n",
       "    <tr>\n",
       "      <th>4</th>\n",
       "      <td>3</td>\n",
       "      <td>6063</td>\n",
       "      <td>2</td>\n",
       "    </tr>\n",
       "  </tbody>\n",
       "</table>\n",
       "</div>"
      ],
      "text/plain": [
       "   book_id  user_id  score\n",
       "0        3     3662      1\n",
       "1        3     5115      1\n",
       "2        3     5272      2\n",
       "3        3     5885      1\n",
       "4        3     6063      2"
      ]
     },
     "execution_count": 21,
     "metadata": {},
     "output_type": "execute_result"
    }
   ],
   "source": [
    "train = book.merge(ratings, on='book_id')\n",
    "train = train.drop_duplicates(['user_id','book_id'],keep='first')\n",
    "train['score'] = train.rating.mod(4) + 1\n",
    "train = train[['book_id','user_id','score']]\n",
    "train.head()"
   ]
  },
  {
   "cell_type": "code",
   "execution_count": 23,
   "metadata": {},
   "outputs": [
    {
     "data": {
      "text/plain": [
       "<812x23230 sparse matrix of type '<class 'numpy.int64'>'\n",
       "\twith 52946 stored elements in Compressed Sparse Row format>"
      ]
     },
     "execution_count": 23,
     "metadata": {},
     "output_type": "execute_result"
    }
   ],
   "source": [
    "train['book_cat'] = train['book_id'].astype('category').cat.codes\n",
    "train['user_cat'] = train['user_id'].astype('category').cat.codes\n",
    "\n",
    "book_map = train.drop_duplicates(['book_id','book_cat'],keep='last')\n",
    "matrix = sparse.csr_matrix((\n",
    "                train.score.values,\n",
    "                (train.book_cat.values,\n",
    "                train.user_cat.values)),\n",
    "                shape=(len(train['book_cat'].unique()), len(train['user_cat'].unique())))\n",
    "item_matrix = matrix.T.tocsr()\n",
    "matrix"
   ]
  },
  {
   "cell_type": "code",
   "execution_count": 38,
   "metadata": {},
   "outputs": [
    {
     "name": "stderr",
     "output_type": "stream",
     "text": [
      "100%|████████████████████████████████████████████████████████████████████████████████| 14.0/14 [00:00<00:00, 19.37it/s]\n"
     ]
    }
   ],
   "source": [
    "model = implicit.als.AlternatingLeastSquares(factors=800,iterations=1,regularization=0.01)\n",
    "model.fit(matrix)"
   ]
  },
  {
   "cell_type": "code",
   "execution_count": 39,
   "metadata": {
    "collapsed": true
   },
   "outputs": [
    {
     "data": {
      "text/plain": [
       "[(450, 0.054436143),\n",
       " (400, 0.045950767),\n",
       " (769, 0.04551361),\n",
       " (671, 0.042196408),\n",
       " (461, 0.03656152),\n",
       " (385, 0.031812377),\n",
       " (791, 0.030836033),\n",
       " (505, 0.029319003),\n",
       " (602, 0.02810475),\n",
       " (238, 0.027889963),\n",
       " (162, 0.026016302),\n",
       " (217, 0.025197253),\n",
       " (228, 0.025079984),\n",
       " (136, 0.0248105),\n",
       " (287, 0.024321048),\n",
       " (595, 0.023526367),\n",
       " (159, 0.023436077),\n",
       " (507, 0.02328435),\n",
       " (259, 0.023007367),\n",
       " (235, 0.022355888),\n",
       " (732, 0.02172082),\n",
       " (195, 0.021694543),\n",
       " (800, 0.02150014),\n",
       " (279, 0.021446295),\n",
       " (560, 0.021003263),\n",
       " (236, 0.020244367),\n",
       " (718, 0.01975438),\n",
       " (242, 0.019319665),\n",
       " (297, 0.019102752),\n",
       " (257, 0.018910158),\n",
       " (803, 0.01798072),\n",
       " (295, 0.017617803),\n",
       " (659, 0.01759948),\n",
       " (641, 0.0173206),\n",
       " (762, 0.017229829),\n",
       " (687, 0.017165244),\n",
       " (436, 0.016591834),\n",
       " (200, 0.016503317),\n",
       " (273, 0.016116813),\n",
       " (600, 0.01567422),\n",
       " (455, 0.015377777),\n",
       " (500, 0.015302204),\n",
       " (356, 0.015156066),\n",
       " (258, 0.0150397215),\n",
       " (416, 0.0146467015),\n",
       " (300, 0.014630882),\n",
       " (743, 0.014601708),\n",
       " (698, 0.014298257),\n",
       " (243, 0.01425018),\n",
       " (204, 0.014204142),\n",
       " (283, 0.014028693),\n",
       " (534, 0.013985687),\n",
       " (780, 0.013922302),\n",
       " (635, 0.013766927),\n",
       " (652, 0.01358301),\n",
       " (284, 0.0134866275),\n",
       " (10, 0.013333789),\n",
       " (276, 0.013250393),\n",
       " (750, 0.013189735),\n",
       " (306, 0.01316503),\n",
       " (362, 0.01310754),\n",
       " (203, 0.013033912),\n",
       " (692, 0.012935621),\n",
       " (765, 0.01287988),\n",
       " (786, 0.012804164),\n",
       " (470, 0.012765098),\n",
       " (783, 0.012627438),\n",
       " (704, 0.012627419),\n",
       " (9, 0.012625337),\n",
       " (59, 0.012490562),\n",
       " (679, 0.012442718),\n",
       " (353, 0.012439545),\n",
       " (528, 0.012407722),\n",
       " (302, 0.012351135),\n",
       " (95, 0.012092003),\n",
       " (11, 0.012044419),\n",
       " (261, 0.012038805),\n",
       " (178, 0.011942616),\n",
       " (723, 0.011915389),\n",
       " (629, 0.011802921),\n",
       " (13, 0.011668189),\n",
       " (343, 0.011555014),\n",
       " (312, 0.011356618),\n",
       " (405, 0.011333883),\n",
       " (190, 0.0113275265),\n",
       " (582, 0.011311586),\n",
       " (439, 0.010927782),\n",
       " (245, 0.010672115),\n",
       " (568, 0.01005802),\n",
       " (352, 0.00994394),\n",
       " (73, 0.009851072),\n",
       " (318, 0.009790295),\n",
       " (272, 0.009755961),\n",
       " (103, 0.009684834),\n",
       " (382, 0.009661673),\n",
       " (288, 0.009638738),\n",
       " (47, 0.00961673),\n",
       " (280, 0.009526322),\n",
       " (781, 0.009440559),\n",
       " (516, 0.00933991)]"
      ]
     },
     "execution_count": 39,
     "metadata": {},
     "output_type": "execute_result"
    }
   ],
   "source": [
    "user_cat = 20\n",
    "recommendation = model.recommend(user_cat,item_matrix,100,filter_already_liked_items=True)\n",
    "recommendation"
   ]
  },
  {
   "cell_type": "code",
   "execution_count": 27,
   "metadata": {},
   "outputs": [],
   "source": [
    "def get_book_info(book_cat):\n",
    "    book_id = book_map[book_map.book_cat == book_cat]['book_id'].values[0]\n",
    "    book_isbn = book[book.book_id == book_id]['isbn'].values[0]\n",
    "#     book_isbn = '0' + str(book_isbn)\n",
    "#     url = 'https://www.googleapis.com/books/v1/volumes?q=isbn:'\n",
    "#     response = requests.get(url + book_isbn)\n",
    "#     json_response = json.loads(response.text)\n",
    "#     try:\n",
    "#         title = json_response['items'][0]['volumeInfo']['title']\n",
    "#         author = json_response['items'][0]['volumeInfo']['authors'][0]\n",
    "#         category = json_response['items'][0]['volumeInfo']['categories'][0]\n",
    "#         return title, author, category\n",
    "#     except Exception:\n",
    "#         return book_isbn\n",
    "    return book[book.isbn == book_isbn][['authors','original_title']].values"
   ]
  },
  {
   "cell_type": "code",
   "execution_count": 37,
   "metadata": {
    "collapsed": true
   },
   "outputs": [
    {
     "name": "stdout",
     "output_type": "stream",
     "text": [
      "[['Maud Hart Lovelace, Lois Lenski' 'Betsy-Tacy']]\n",
      "[['Tom Robbins' 'Still Life with Woodpecker']]\n",
      "[['Tom Standage' 'A History of the World in 6 Glasses']]\n",
      "[['Max Brooks' 'World War Z: An Oral History of the Zombie War']]\n",
      "[['J.R.R. Tolkien' 'The Hobbit or There and Back Again']]\n",
      "[[\"Julia Child, Alex Prud'Homme\" 'My Life in France']]\n",
      "[['Roald Dahl, Quentin Blake' 'The Witches']]\n",
      "[['John Grisham' 'The Firm']]\n",
      "[['Raymond Chandler' 'The Big Sleep']]\n",
      "[['Jhumpa Lahiri' 'Interpreter of Maladies']]\n",
      "[['Louis de Bernières' \"Captain Corelli's Mandolin\"]]\n",
      "[['Scott Turow' 'The Burden of Proof']]\n",
      "[['J.K. Rowling' nan]]\n",
      "[['Michael Crichton' 'Rising Sun']]\n",
      "[['Douglas Coupland' 'All Families Are Psychotic']]\n",
      "[['Pat Barker' 'Regeneration']]\n",
      "[['Ian Fleming' 'Moonraker']]\n",
      "[['Hermann Hesse, Ursule Molinaro' 'Narziß und Goldmund']]\n",
      "[['Ernest Hemingway' 'The Snows of Kilimanjaro and Other Stories']]\n",
      "[['John Grisham' 'The Last Juror']]\n",
      "[['Beryl Markham' 'West with the Night']]\n",
      "[['Åsne Seierstad, Ingrid Christopherson' 'Bokhandleren i Kabul']]\n",
      "[['Harold Bloom, Terry Southern, David H. Goldsmith, James Lundquist, Lawrence R. Broer, Peter J. Reed, Loree Rackstraw, William S. Doxey, Jerome Klinkowitz, Richard Giannone, John L. Simons, Leonard Mustazza, Zoltan Ab di-Nagy, Peter Freese, Wendy B. Faris'\n",
      "  \"Kurt Vonnegut's Cat Cradle\"]]\n",
      "[['Franz Kafka, Jason Baker, Donna Freed'\n",
      "  'Die Verwandlung und andere Erzählungen']]\n",
      "[['Arthur Conan Doyle' 'The Adventures of Sherlock Holmes']]\n",
      "[['J.D. Salinger' 'Franny and Zooey']]\n",
      "[['Dr. Seuss' nan]]\n",
      "[['Janet Evanovich' 'Three to Get Deadly']]\n",
      "[['Gary Paulsen' 'The River']]\n",
      "[['Alice  Miller, Ruth Ward'\n",
      "  'Das Drama des begabten Kindes und die Suche nach dem wahren Selbst: eine Um- und Fortschreibung']]\n",
      "[['Neil Gaiman' 'Anansi Boys']]\n",
      "[['Tom Robbins' 'Villa Incognito']]\n",
      "[['George Orwell' 'Keep the Aspidistra Flying']]\n",
      "[['Paulo Coelho, Alan R. Clarke' 'As Valkírias']]\n",
      "[['Mary McGarry Morris' 'Songs in Ordinary Time']]\n",
      "[['David Mitchell' 'number9dream']]\n",
      "[['Salman Rushdie' 'The Ground Beneath Her Feet']]\n",
      "[['Ian Fleming' 'Live and Let Die']]\n",
      "[['Dave Pelzer' nan]]\n",
      "[['George Bernard Shaw, Alan Jay Lerner'\n",
      "  'Pygmalion and My Fair Lady (50th Anniversary Edition) (Signet Classics (Paperback))']]\n",
      "[['Dan Simmons' 'Ilium']]\n",
      "[['Marian Keyes' 'The Other Side of the Story']]\n",
      "[['Mark Haddon' 'A Spot of Bother']]\n",
      "[['J.M. Coetzee' 'Disgrace']]\n",
      "[]\n",
      "[['Joyce Carol Oates' 'We Were the Mulvaneys']]\n",
      "[['Zadie Smith' 'The Autograph Man']]\n",
      "[['Dan Simmons' 'The Terror']]\n",
      "[['Barbara Taylor Bradford' 'A Woman of Substance ']]\n",
      "[['Vladimir Nabokov' 'Pale Fire']]\n",
      "[['Robert Louis Stevenson' 'Treasure Island']]\n",
      "[['Monty Roberts, Lucy Grealy, Lawrence Scanlan'\n",
      "  'The Man Who Listens to Horses']]\n",
      "[['Roald Dahl, Quentin Blake' 'Boy: Tales of Childhood']]\n",
      "[['Steve Krug'\n",
      "  \"Don't Make Me Think! A common sense approach to web usability\"]]\n",
      "[['Tucker Max' 'I Hope They Serve Beer in Hell']]\n",
      "[['Sarah Dessen' 'Dreamland ']]\n",
      "[['Tom Wolfe' 'The Bonfire of the Vanities']]\n",
      "[['Dan Brown' 'Deception Point']]\n",
      "[['Roald Dahl, Quentin Blake' 'Danny: The Champion of the World']]\n",
      "[['Brian Jacques, Gary Chalk' 'Mariel of Redwall']]\n",
      "[['Roald Dahl, Quentin Blake' nan]]\n",
      "[['Emily Brontë, Richard J. Dunn' 'Wuthering Heights']]\n",
      "[['Oscar Wilde, Jeffrey Eugenides' 'The Picture of Dorian Gray']]\n",
      "[['Arthur Conan Doyle'\n",
      "  'Sherlock Holmes: The Complete Novels and Stories, Volume I']]\n",
      "[['Tracy Chevalier' 'Falling Angels']]\n",
      "[['Jane Hamilton, Frank  Muller, C.J. Critt' 'A Map of the World']]\n",
      "[['Roald Dahl, Quentin Blake'\n",
      "  'Charlie and the Great Glass Elevator: The Further Adventures of Charlie Bucket and Willy Wonka, Chocolate-Maker Extraordinaire']]\n",
      "[['Malcolm Gladwell'\n",
      "  'The Tipping Point: How Little Things Can Make a Big Difference']]\n",
      "[['Marjane Satrapi, Anjali Singh' nan]]\n",
      "[['Chuck Palahniuk' 'Stranger Than Fiction: True Stories']]\n",
      "[['Wilkie Collins, Carolyn G. Heilbrun' 'The Moonstone']]\n",
      "[['George Eliot, Edmund White' 'Daniel Deronda']]\n",
      "[['John Grisham' 'The Brethren']]\n",
      "[['Doris Kearns Goodwin, Suzanne Toren'\n",
      "  'Team of Rivals: The Political Genius of Abraham Lincoln']]\n",
      "[['Homer, Robert Fagles, E.V. Rieu, Frédéric Mugler, Bernard Knox'\n",
      "  'Ὀδύσσεια']]\n",
      "[['Jorge Luis Borges, Andrew Hurley' 'El Aleph']]\n",
      "[['Anna Sewell' 'Black Beauty']]\n",
      "[['John Grisham' 'Bleachers']]\n",
      "[['Anton Chekhov, Richard Pevear, Larissa Volokhonsky'\n",
      "  'Рассказы и Повести']]\n",
      "[['Tite Kubo' 'BLEACH―ブリーチ―\\u30001']]\n",
      "[['Hiromu Arakawa, Akira Watanabe' '鋼の錬金術師 1']]\n",
      "[['Lois Lowry' 'The Giver']]\n",
      "[['Dr. Seuss' 'The Lorax']]\n",
      "[['J.K. Rowling, Mary GrandPré' 'Harry Potter and the Goblet of Fire']]\n",
      "[['Orhan Pamuk, Erdağ M. Göknar' 'Benim Adım Kırmızı']]\n",
      "[['John Grisham' 'The Rainmaker']]\n",
      "[['Lalita Tademy' 'Cane River']]\n",
      "[['W. Chan Kim, Renée Mauborgne'\n",
      "  'Blue Ocean Strategy: How to Create Uncontested Market Space and Make Competition Irrelevant']]\n",
      "[['David Foster Wallace' 'The Broom of the System']]\n",
      "[['Barbara Kingsolver' 'The Poisonwood Bible']]\n",
      "[['Roald Dahl, Quentin Blake' 'James and the Giant Peach']]\n",
      "[['Haruki Murakami, Philip Gabriel' '海辺のカフカ [Umibe no Kafuka]']]\n",
      "[['Joan Didion' 'The Year of Magical Thinking']]\n",
      "[['Michael Crichton' 'Congo']]\n",
      "[['Gabriel García Márquez, Edith Grossman'\n",
      "  'El amor en los tiempos del cólera']]\n",
      "[['Gustave Flaubert, Margaret Mauldon, Malcolm Bowie, Mark Overstall'\n",
      "  'Madame Bovary']]\n",
      "[['Elizabeth Berg' 'Open House']]\n",
      "[['Mitch Albom, Saulius Dagys' 'Tuesdays with Morrie']]\n",
      "[['Stephen Hawking' 'The Universe in a Nutshell']]\n",
      "[['Patricia Cornwell' \"From Potter's Field\"]]\n"
     ]
    }
   ],
   "source": [
    "for rec in recommendation:\n",
    "    book_rec = rec[0]\n",
    "    print(get_book_info(book_rec))"
   ]
  },
  {
   "cell_type": "code",
   "execution_count": 32,
   "metadata": {},
   "outputs": [
    {
     "name": "stdout",
     "output_type": "stream",
     "text": [
      "[['Douglas Adams, Mark Carwardine' 'Last Chance to See']]\n"
     ]
    }
   ],
   "source": [
    "books_read = train[train.user_cat == user_cat]['book_cat'].values\n",
    "for b in books_read:\n",
    "    print(get_book_info(b))"
   ]
  },
  {
   "cell_type": "code",
   "execution_count": 35,
   "metadata": {},
   "outputs": [
    {
     "name": "stdout",
     "output_type": "stream",
     "text": [
      "Libros Similares a [['Bill Bryson' 'The Lost Continent: Travels in Small-Town America']]\n",
      "\n",
      "[['Bill Bryson' 'The Lost Continent: Travels in Small-Town America']]\n",
      "[['J.K. Rowling, Mary GrandPré'\n",
      "  'Harry Potter and the Order of the Phoenix']]\n",
      "[['Bill Bryson' 'A Short History of Nearly Everything']]\n",
      "[['J.K. Rowling, Mary GrandPré' 'Harry Potter and the Half-Blood Prince']]\n",
      "[['Bill Bryson' 'Notes from a Big Country']]\n",
      "[['Bill Bryson' 'Down Under']]\n",
      "[['Bill Bryson' 'Neither Here Nor There: Travels in Europe']]\n",
      "[['Johanna Spyri, Angelo  Rinaldi, Beverly Cleary' 'Heidi']]\n",
      "[['Douglas Adams'\n",
      "  \"The Ultimate Hitchhiker's Guide: Five Complete Novels and One Story\"]]\n",
      "[['Bill Bryson' 'Notes from a Small Island']]\n"
     ]
    }
   ],
   "source": [
    "similar_items = model.similar_items(12)\n",
    "print(f\"Libros Similares a {get_book_info(12)}\\n\")\n",
    "for tuple in similar_items:\n",
    "    similar_item = tuple[0]\n",
    "    print(get_book_info(similar_item))"
   ]
  }
 ],
 "metadata": {
  "kernelspec": {
   "display_name": "Python 3",
   "language": "python",
   "name": "python3"
  },
  "language_info": {
   "codemirror_mode": {
    "name": "ipython",
    "version": 3
   },
   "file_extension": ".py",
   "mimetype": "text/x-python",
   "name": "python",
   "nbconvert_exporter": "python",
   "pygments_lexer": "ipython3",
   "version": "3.7.3"
  }
 },
 "nbformat": 4,
 "nbformat_minor": 2
}
